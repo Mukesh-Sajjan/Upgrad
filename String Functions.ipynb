{
 "cells": [
  {
   "cell_type": "code",
   "execution_count": null,
   "id": "120ad13e",
   "metadata": {},
   "outputs": [],
   "source": [
    "# string function\n",
    "# concatenate, multiply, append"
   ]
  },
  {
   "cell_type": "code",
   "execution_count": 3,
   "id": "60d41230",
   "metadata": {},
   "outputs": [
    {
     "name": "stdout",
     "output_type": "stream",
     "text": [
      "Python Learning\n"
     ]
    }
   ],
   "source": [
    "#concatenate\n",
    "msg = 'Python' + ' '+'Learning'\n",
    "print(msg)"
   ]
  },
  {
   "cell_type": "code",
   "execution_count": 4,
   "id": "8f9d3e92",
   "metadata": {},
   "outputs": [
    {
     "name": "stdout",
     "output_type": "stream",
     "text": [
      "PythonPythonPythonPythonPython\n"
     ]
    }
   ],
   "source": [
    "#multiply\n",
    "msg = \"Python\" * 5\n",
    "print(msg)"
   ]
  },
  {
   "cell_type": "code",
   "execution_count": 5,
   "id": "e1d51110",
   "metadata": {},
   "outputs": [
    {
     "name": "stdout",
     "output_type": "stream",
     "text": [
      "Python Learning\n"
     ]
    }
   ],
   "source": [
    "#Append\n",
    "msg  = \"Python\"\n",
    "msg += \" \"\n",
    "msg += \"Learning\"\n",
    "print(msg)"
   ]
  },
  {
   "cell_type": "code",
   "execution_count": 6,
   "id": "3db6cd78",
   "metadata": {},
   "outputs": [
    {
     "data": {
      "text/plain": [
       "'y'"
      ]
     },
     "execution_count": 6,
     "metadata": {},
     "output_type": "execute_result"
    }
   ],
   "source": [
    "word = \"Hello Python\"\n",
    "word[7]"
   ]
  },
  {
   "cell_type": "code",
   "execution_count": 7,
   "id": "90c57727",
   "metadata": {},
   "outputs": [
    {
     "data": {
      "text/plain": [
       "12"
      ]
     },
     "execution_count": 7,
     "metadata": {},
     "output_type": "execute_result"
    }
   ],
   "source": [
    "len(word)"
   ]
  },
  {
   "cell_type": "code",
   "execution_count": 10,
   "id": "981710f2",
   "metadata": {},
   "outputs": [
    {
     "name": "stdout",
     "output_type": "stream",
     "text": [
      "1\n"
     ]
    }
   ],
   "source": [
    "#count - how many times a letter occurred in a string\n",
    "print(word.count(\"Hello\"))"
   ]
  },
  {
   "cell_type": "code",
   "execution_count": 11,
   "id": "cb91adfb",
   "metadata": {},
   "outputs": [
    {
     "name": "stdout",
     "output_type": "stream",
     "text": [
      "6\n"
     ]
    }
   ],
   "source": [
    "#INDEX\n",
    "print(word.index(\"Python\"))"
   ]
  },
  {
   "cell_type": "code",
   "execution_count": 13,
   "id": "807c52ba",
   "metadata": {},
   "outputs": [
    {
     "name": "stdout",
     "output_type": "stream",
     "text": [
      "['We', 'are', 'learning', 'python']\n"
     ]
    }
   ],
   "source": [
    "# split the string\n",
    "sentence = \"We are learning python\"\n",
    "print(sentence.split(' '))"
   ]
  },
  {
   "cell_type": "code",
   "execution_count": 16,
   "id": "861ee6df",
   "metadata": {},
   "outputs": [
    {
     "data": {
      "text/plain": [
       "True"
      ]
     },
     "execution_count": 16,
     "metadata": {},
     "output_type": "execute_result"
    }
   ],
   "source": [
    "#startswith\n",
    "word = \"Python Learning\"\n",
    "word.startswith(\"P\")"
   ]
  },
  {
   "cell_type": "code",
   "execution_count": 17,
   "id": "19645e1e",
   "metadata": {},
   "outputs": [
    {
     "data": {
      "text/plain": [
       "True"
      ]
     },
     "execution_count": 17,
     "metadata": {},
     "output_type": "execute_result"
    }
   ],
   "source": [
    "#endswith\n",
    "word.endswith(\"g\")"
   ]
  },
  {
   "cell_type": "code",
   "execution_count": 18,
   "id": "2665c156",
   "metadata": {},
   "outputs": [
    {
     "data": {
      "text/plain": [
       "'Upgrad Learning'"
      ]
     },
     "execution_count": 18,
     "metadata": {},
     "output_type": "execute_result"
    }
   ],
   "source": [
    "word = \"Python Learning\"\n",
    "word.replace(\"Python\",\"Upgrad\")"
   ]
  },
  {
   "cell_type": "code",
   "execution_count": 19,
   "id": "5021c638",
   "metadata": {},
   "outputs": [
    {
     "name": "stdout",
     "output_type": "stream",
     "text": [
      "PYTHON LEARNING\n",
      "python learning\n",
      "Python Learning\n",
      "Python learning\n",
      "pYTHON lEARNING\n"
     ]
    }
   ],
   "source": [
    "word = \"Python Learning\"\n",
    "print(word.upper()) #upper case\n",
    "print(word.lower()) #lower case\n",
    "print(word.title()) # proper case\n",
    "print(word.capitalize()) # capitalize the first letter of the text\n",
    "print(word.swapcase()) ## switches the letter case of the text"
   ]
  },
  {
   "cell_type": "code",
   "execution_count": 21,
   "id": "ec81edb1",
   "metadata": {},
   "outputs": [
    {
     "name": "stdout",
     "output_type": "stream",
     "text": [
      "P.y.t.h.o.n. .L.e.a.r.n.i.n.g\n"
     ]
    }
   ],
   "source": [
    "word = \"Python Learning\"\n",
    "print(\".\".join(word))"
   ]
  },
  {
   "cell_type": "code",
   "execution_count": 22,
   "id": "2384151a",
   "metadata": {},
   "outputs": [
    {
     "name": "stdout",
     "output_type": "stream",
     "text": [
      "gninraeL nohtyP\n"
     ]
    }
   ],
   "source": [
    "print(''.join(reversed(word)))"
   ]
  },
  {
   "cell_type": "code",
   "execution_count": 23,
   "id": "6fa2e954",
   "metadata": {},
   "outputs": [
    {
     "name": "stdout",
     "output_type": "stream",
     "text": [
      "False\n",
      "False\n",
      "False\n",
      "True\n",
      "False\n",
      "False\n"
     ]
    }
   ],
   "source": [
    "print(word.isalnum())\n",
    "print(word.isalpha())\n",
    "print(word.isdigit())\n",
    "print(word.istitle())\n",
    "print(word.isupper())\n",
    "print(word.islower())\n"
   ]
  },
  {
   "cell_type": "code",
   "execution_count": 25,
   "id": "bd13afac",
   "metadata": {},
   "outputs": [
    {
     "name": "stdout",
     "output_type": "stream",
     "text": [
      "1550.75 INR\n"
     ]
    }
   ],
   "source": [
    "# f string\n",
    "amount = 1550.75\n",
    "currency_code = 'INR'\n",
    "formatted_amount = f'{amount} {currency_code}'\n",
    "print(formatted_amount)"
   ]
  },
  {
   "cell_type": "code",
   "execution_count": 26,
   "id": "469d20f5",
   "metadata": {},
   "outputs": [
    {
     "name": "stdout",
     "output_type": "stream",
     "text": [
      "Patient: John Doe, ID: P1234\n"
     ]
    }
   ],
   "source": [
    "patient_name =\"John Doe\"\n",
    "patient_id = 'P1234'\n",
    "record  = f'Patient: {patient_name}, ID: {patient_id}'\n",
    "print(record)"
   ]
  },
  {
   "cell_type": "code",
   "execution_count": 33,
   "id": "c1fc7828",
   "metadata": {},
   "outputs": [
    {
     "name": "stdout",
     "output_type": "stream",
     "text": [
      "Lowercase count: 3\n"
     ]
    }
   ],
   "source": [
    "# count all the lower cases in the given sentence\n",
    "string =  \"Today is A Saturd@y\"\n",
    "count = 0\n",
    "\n",
    "for char in string:\n",
    "    if char.isupper():\n",
    "        count +=1\n",
    "print(\"Lowercase count:\", count)"
   ]
  },
  {
   "cell_type": "code",
   "execution_count": 34,
   "id": "f08a9fa0",
   "metadata": {},
   "outputs": [
    {
     "name": "stdout",
     "output_type": "stream",
     "text": [
      "numeric count: 9\n"
     ]
    }
   ],
   "source": [
    "# count all the numeric values in a given string\n",
    "string = \"Hit!er123 134D0wn The Str44t\"\n",
    "count = 0\n",
    "\n",
    "for char in string:\n",
    "    if char.isnumeric():\n",
    "        count +=1\n",
    "print(\"numeric count:\", count)\n"
   ]
  },
  {
   "cell_type": "code",
   "execution_count": 36,
   "id": "a1cba659",
   "metadata": {},
   "outputs": [
    {
     "name": "stdout",
     "output_type": "stream",
     "text": [
      "vowel count: 5\n"
     ]
    }
   ],
   "source": [
    "# count the number of vowels in the string\n",
    "string = 'abCSDEu ghIi'\n",
    "vowel = ['a','e','i','o','u','A','E','I','O','U']\n",
    "\n",
    "count = 0\n",
    "\n",
    "for char in string:\n",
    "    if char in vowel:\n",
    "        count +=1\n",
    "print(\"vowel count:\", count)\n",
    "\n"
   ]
  },
  {
   "cell_type": "code",
   "execution_count": 38,
   "id": "d01492cd",
   "metadata": {},
   "outputs": [
    {
     "data": {
      "text/plain": [
       "3"
      ]
     },
     "execution_count": 38,
     "metadata": {},
     "output_type": "execute_result"
    }
   ],
   "source": [
    "# Word count\n",
    "# write a function that takes a sentence as input from user and\n",
    "# returns the count of words in that sentence\n",
    "\n",
    "def word_count(sentence):\n",
    "    words =  sentence.split()\n",
    "    return len(words)\n",
    "\n",
    "word_count(\"This is Python\")\n"
   ]
  },
  {
   "cell_type": "code",
   "execution_count": 39,
   "id": "4a095258",
   "metadata": {},
   "outputs": [
    {
     "data": {
      "text/plain": [
       "(2, 10)"
      ]
     },
     "execution_count": 39,
     "metadata": {},
     "output_type": "execute_result"
    }
   ],
   "source": [
    "# write a function that takes a string as input \n",
    "# and count the number of uppercase and lowercase letters separately\n",
    "def count_case(sent):\n",
    "  upper_count = sum(1 for char in sent if char.isupper())\n",
    "  lower_count = sum(1 for char in sent if char.islower())\n",
    "  return upper_count,lower_count\n",
    "\n",
    "count_case(\"This is Python\")\n",
    "\n"
   ]
  },
  {
   "cell_type": "code",
   "execution_count": 40,
   "id": "740e46bc",
   "metadata": {},
   "outputs": [
    {
     "name": "stdout",
     "output_type": "stream",
     "text": [
      "['KAI', 'ABE', 'ADA', 'GUS', 'ZOE']\n"
     ]
    }
   ],
   "source": [
    "# using a loop convert list of names to upper case\n",
    "names = ['kai','abe','ada','gus','zoe']\n",
    "upper_names = [a.upper() for a in names]\n",
    "print(upper_names)"
   ]
  }
 ],
 "metadata": {
  "kernelspec": {
   "display_name": "Python 3 (ipykernel)",
   "language": "python",
   "name": "python3"
  },
  "language_info": {
   "codemirror_mode": {
    "name": "ipython",
    "version": 3
   },
   "file_extension": ".py",
   "mimetype": "text/x-python",
   "name": "python",
   "nbconvert_exporter": "python",
   "pygments_lexer": "ipython3",
   "version": "3.10.9"
  }
 },
 "nbformat": 4,
 "nbformat_minor": 5
}

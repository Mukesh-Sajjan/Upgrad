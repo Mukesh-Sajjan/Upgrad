{
 "cells": [
  {
   "cell_type": "code",
   "execution_count": null,
   "id": "ff836445",
   "metadata": {},
   "outputs": [],
   "source": [
    "# List Exercises\n",
    "# Create a list of Cities\n",
    "# Append a new city to the list\n",
    "# Remove the second city from the list\n",
    "# Sort the list\n",
    "# Check the length of the list\n",
    "# Get city name based on Index"
   ]
  },
  {
   "cell_type": "code",
   "execution_count": 2,
   "id": "60dcbf0c",
   "metadata": {},
   "outputs": [
    {
     "name": "stdout",
     "output_type": "stream",
     "text": [
      "['New York', 'London', 'Delhi', 'Tokyo']\n"
     ]
    }
   ],
   "source": [
    "# cities - 'New York', 'London','Delhi','Tokyo'\n",
    "cities = [\"New York\", \"London\", \"Delhi\", \"Tokyo\"]\n",
    "print(cities)"
   ]
  },
  {
   "cell_type": "code",
   "execution_count": 3,
   "id": "8d2ae13b",
   "metadata": {},
   "outputs": [
    {
     "name": "stdout",
     "output_type": "stream",
     "text": [
      "['New York', 'London', 'Delhi', 'Tokyo', 'Paris']\n"
     ]
    }
   ],
   "source": [
    "# Append a new city to the list - Paris\n",
    "cities.append('Paris')\n",
    "print(cities)"
   ]
  },
  {
   "cell_type": "code",
   "execution_count": 4,
   "id": "65d775a1",
   "metadata": {},
   "outputs": [
    {
     "name": "stdout",
     "output_type": "stream",
     "text": [
      "['New York', 'Delhi', 'Tokyo', 'Paris']\n"
     ]
    }
   ],
   "source": [
    "# Remove the second city from the list\n",
    "cities.pop(1)\n",
    "print(cities)"
   ]
  },
  {
   "cell_type": "code",
   "execution_count": 5,
   "id": "bbf48e20",
   "metadata": {},
   "outputs": [
    {
     "name": "stdout",
     "output_type": "stream",
     "text": [
      "['Delhi', 'New York', 'Paris', 'Tokyo']\n"
     ]
    }
   ],
   "source": [
    "# Sort the list\n",
    "cities.sort()\n",
    "print(cities)"
   ]
  },
  {
   "cell_type": "code",
   "execution_count": 6,
   "id": "ab709e8b",
   "metadata": {},
   "outputs": [
    {
     "name": "stdout",
     "output_type": "stream",
     "text": [
      "['Tokyo', 'Paris', 'New York', 'Delhi']\n"
     ]
    }
   ],
   "source": [
    "cities.sort(reverse = True)\n",
    "print(cities)"
   ]
  },
  {
   "cell_type": "code",
   "execution_count": 7,
   "id": "ce36b081",
   "metadata": {},
   "outputs": [
    {
     "name": "stdout",
     "output_type": "stream",
     "text": [
      "New York\n"
     ]
    }
   ],
   "source": [
    "# print the 'New York' city from the list\n",
    "print(cities[2])"
   ]
  },
  {
   "cell_type": "code",
   "execution_count": 8,
   "id": "3dec13c0",
   "metadata": {},
   "outputs": [
    {
     "name": "stdout",
     "output_type": "stream",
     "text": [
      "['Paris', 'New York']\n"
     ]
    }
   ],
   "source": [
    "# print the 'New York' and Paris city from the list\n",
    "print(cities[1:3])"
   ]
  },
  {
   "cell_type": "code",
   "execution_count": 9,
   "id": "48abc42c",
   "metadata": {},
   "outputs": [
    {
     "name": "stdout",
     "output_type": "stream",
     "text": [
      "Delhi\n"
     ]
    }
   ],
   "source": [
    "# print the last value in the list # Delhi\n",
    "print(cities[-1])"
   ]
  },
  {
   "cell_type": "code",
   "execution_count": 10,
   "id": "3fd2e37b",
   "metadata": {},
   "outputs": [
    {
     "data": {
      "text/plain": [
       "4"
      ]
     },
     "execution_count": 10,
     "metadata": {},
     "output_type": "execute_result"
    }
   ],
   "source": [
    "# length of the cities, how many values in the list (len)\n",
    "len(cities)"
   ]
  },
  {
   "cell_type": "code",
   "execution_count": null,
   "id": "27765989",
   "metadata": {},
   "outputs": [],
   "source": [
    "# dictionary exercises\n",
    "# create a dictionary represnting keys for book (title,author and publication year)\n",
    "# change the value of publication year\n",
    "# Remove the publication year from the dictionary\n",
    "# check if the author key is present in the dictionary\n",
    "# print all values in dictionary\n",
    "# print all keys in the dictinary\n",
    "# print key:value pair in the dictionary"
   ]
  },
  {
   "cell_type": "code",
   "execution_count": 11,
   "id": "e47d7bbd",
   "metadata": {},
   "outputs": [
    {
     "name": "stdout",
     "output_type": "stream",
     "text": [
      "{'title': 'The Great Gatsby', 'Author': 'Scott Fitzgerald', 'publication_year': 1925}\n"
     ]
    }
   ],
   "source": [
    "#title = 'The Great Gatsby', author =  'Scott Fitzgerald', publication_year = 1925\n",
    "book = {'title':'The Great Gatsby',\n",
    "        'Author':'Scott Fitzgerald', \n",
    "        'publication_year':1925 } \n",
    "print(book)\n"
   ]
  },
  {
   "cell_type": "code",
   "execution_count": 12,
   "id": "09484312",
   "metadata": {},
   "outputs": [
    {
     "data": {
      "text/plain": [
       "dict"
      ]
     },
     "execution_count": 12,
     "metadata": {},
     "output_type": "execute_result"
    }
   ],
   "source": [
    "type(book)"
   ]
  },
  {
   "cell_type": "code",
   "execution_count": 13,
   "id": "b728bff6",
   "metadata": {},
   "outputs": [
    {
     "name": "stdout",
     "output_type": "stream",
     "text": [
      "{'title': 'The Great Gatsby', 'Author': 'Scott Fitzgerald', 'publication_year': '1950'}\n"
     ]
    }
   ],
   "source": [
    "# change the value of publication year -1950\n",
    "book['publication_year'] = '1950'\n",
    "print(book)"
   ]
  },
  {
   "cell_type": "code",
   "execution_count": 15,
   "id": "63ce2aae",
   "metadata": {},
   "outputs": [
    {
     "name": "stdout",
     "output_type": "stream",
     "text": [
      "{'title': 'The Great Gatsby', 'Author': 'Scott Fitzgerald'}\n"
     ]
    }
   ],
   "source": [
    "# Remove the publication year from the dictionary\n",
    "del(book['publication_year']) \n",
    "print(book)"
   ]
  },
  {
   "cell_type": "code",
   "execution_count": 18,
   "id": "40dc3bb0",
   "metadata": {},
   "outputs": [
    {
     "data": {
      "text/plain": [
       "True"
      ]
     },
     "execution_count": 18,
     "metadata": {},
     "output_type": "execute_result"
    }
   ],
   "source": [
    "# check if the author key is present in the dictionary\n",
    "'Author' in book"
   ]
  },
  {
   "cell_type": "code",
   "execution_count": 19,
   "id": "4ad6f8d7",
   "metadata": {},
   "outputs": [
    {
     "data": {
      "text/plain": [
       "dict_values(['The Great Gatsby', 'Scott Fitzgerald'])"
      ]
     },
     "execution_count": 19,
     "metadata": {},
     "output_type": "execute_result"
    }
   ],
   "source": [
    "# print all values in dictionary\n",
    "book.values()"
   ]
  },
  {
   "cell_type": "code",
   "execution_count": 20,
   "id": "6093beda",
   "metadata": {
    "scrolled": true
   },
   "outputs": [
    {
     "data": {
      "text/plain": [
       "dict_keys(['title', 'Author'])"
      ]
     },
     "execution_count": 20,
     "metadata": {},
     "output_type": "execute_result"
    }
   ],
   "source": [
    "# print all keys in dictionary\n",
    "book.keys()"
   ]
  },
  {
   "cell_type": "code",
   "execution_count": null,
   "id": "753f7ec2",
   "metadata": {},
   "outputs": [],
   "source": []
  },
  {
   "cell_type": "code",
   "execution_count": 21,
   "id": "aa2070f8",
   "metadata": {},
   "outputs": [
    {
     "data": {
      "text/plain": [
       "dict_items([('title', 'The Great Gatsby'), ('Author', 'Scott Fitzgerald')])"
      ]
     },
     "execution_count": 21,
     "metadata": {},
     "output_type": "execute_result"
    }
   ],
   "source": [
    "# print all keys,values in dictionary\n",
    "book.items()"
   ]
  },
  {
   "cell_type": "code",
   "execution_count": null,
   "id": "f4c79ef6",
   "metadata": {},
   "outputs": [],
   "source": [
    "# Sets\n",
    "# create a set \n",
    "# add new items in the set\n",
    "# remove the item from the set\n"
   ]
  },
  {
   "cell_type": "code",
   "execution_count": 22,
   "id": "72b4be5f",
   "metadata": {},
   "outputs": [
    {
     "name": "stdout",
     "output_type": "stream",
     "text": [
      "{'Javascript', 'Python', 'Java'}\n"
     ]
    }
   ],
   "source": [
    "#programming_languages - 'Python','Javascript','Java'\n",
    "programming_languages = {'Python', 'Javascript', 'Java'}\n",
    "print(programming_languages)"
   ]
  },
  {
   "cell_type": "code",
   "execution_count": 23,
   "id": "b7796436",
   "metadata": {},
   "outputs": [
    {
     "data": {
      "text/plain": [
       "set"
      ]
     },
     "execution_count": 23,
     "metadata": {},
     "output_type": "execute_result"
    }
   ],
   "source": [
    "type(programming_languages)"
   ]
  },
  {
   "cell_type": "code",
   "execution_count": 24,
   "id": "cbc8150c",
   "metadata": {},
   "outputs": [
    {
     "name": "stdout",
     "output_type": "stream",
     "text": [
      "{'C++', 'Javascript', 'Python', 'Java'}\n"
     ]
    }
   ],
   "source": [
    "# add a new value C++\n",
    "programming_languages.add('C++')\n",
    "print(programming_languages)"
   ]
  },
  {
   "cell_type": "code",
   "execution_count": 25,
   "id": "f3b40f8e",
   "metadata": {},
   "outputs": [
    {
     "name": "stdout",
     "output_type": "stream",
     "text": [
      "{'C++', 'Javascript', 'Python'}\n"
     ]
    }
   ],
   "source": [
    "# remove Java from set\n",
    "programming_languages.remove('Java') \n",
    "print(programming_languages)"
   ]
  },
  {
   "cell_type": "code",
   "execution_count": null,
   "id": "1b3528c8",
   "metadata": {},
   "outputs": [],
   "source": [
    "# tuple\n",
    "# crate a tuple of movies\n",
    "# check if specific movie is in tuple\n",
    "# concatenate a tuple"
   ]
  },
  {
   "cell_type": "code",
   "execution_count": 26,
   "id": "14b0421d",
   "metadata": {},
   "outputs": [
    {
     "name": "stdout",
     "output_type": "stream",
     "text": [
      "('Inception', 'The Shwashank Redemption', 'The Dark Knight')\n"
     ]
    }
   ],
   "source": [
    "#movies -  'Inception','The Shwashank Redemption','The Dark Knight' ()\n",
    "movies = ('Inception','The Shwashank Redemption','The Dark Knight')\n",
    "print(movies)"
   ]
  },
  {
   "cell_type": "code",
   "execution_count": 27,
   "id": "80b165ca",
   "metadata": {},
   "outputs": [
    {
     "data": {
      "text/plain": [
       "tuple"
      ]
     },
     "execution_count": 27,
     "metadata": {},
     "output_type": "execute_result"
    }
   ],
   "source": [
    "type(movies)"
   ]
  },
  {
   "cell_type": "code",
   "execution_count": 28,
   "id": "f6a23afb",
   "metadata": {},
   "outputs": [
    {
     "data": {
      "text/plain": [
       "True"
      ]
     },
     "execution_count": 28,
     "metadata": {},
     "output_type": "execute_result"
    }
   ],
   "source": [
    "# Inception movies exist in a tuple\n",
    "'Inception' in movies"
   ]
  },
  {
   "cell_type": "code",
   "execution_count": 31,
   "id": "394a0555",
   "metadata": {},
   "outputs": [
    {
     "name": "stdout",
     "output_type": "stream",
     "text": [
      "('Inception', 'The Shwashank Redemption', 'The Dark Knight', 'Pulp Fiction', 'The Matrix')\n"
     ]
    }
   ],
   "source": [
    "additional_movies = ('Pulp Fiction','The Matrix')\n",
    "combined_movies =  movies + additional_movies\n",
    "print(combined_movies)"
   ]
  },
  {
   "cell_type": "code",
   "execution_count": 32,
   "id": "5f27da4e",
   "metadata": {},
   "outputs": [],
   "source": [
    "# List of order ID’s which are processed \n",
    "processed_orders = [1152, 1154, 1155, 1156, 1157, 1160, 1161, 1162, 1166, 1169, 1170, 1172, 1176, 1050, 1178, 1051, 1052, 1054, 1058, 1060, 1061, 1062, 1065, 1066, 1067, 1068, 1069, 1076, 1077, 1080, 1081, 1083, 1091, 1085, 1088, 1089, 1131, 1092, 1094, 1095, 1099, 1102, 1103, 1104, 1106, 1107, 1108, 1109, 1111, 1117, 1119, 1121, 1150, 1128, 1129, 1136, 1137, 1139, 1140, 1141, 1144, 1148, 1124]\n",
    "\n",
    "# List of order ID’s which are returned\n",
    "returned_orders = [1153, 1158, 1159, 1163, 1164, 1165, 1167, 1168, 1171, 1173, 1174, 1175, 1177, 1053, 1055, 1056, 1057, 1059, 1063, 1064, 1070, 1071, 1072, 1073, 1074, 1075, 1078, 1079, 1082, 1084, 1086, 1087, 1090, 1093, 1096, 1097, 1098, 1100, 1101, 1105, 1110, 1112, 1113, 1114, 1115, 1116, 1118, 1120, 1122, 1123, 1125, 1126, 1127, 1130, 1132, 1133, 1134, 1135, 1138, 1142, 1143, 1145, 1146, 1147, 1149, 1151]\n",
    "\n",
    "# Consider the information available in the above two lists and answer the question given below"
   ]
  },
  {
   "cell_type": "code",
   "execution_count": 33,
   "id": "e11f5c13",
   "metadata": {},
   "outputs": [
    {
     "data": {
      "text/plain": [
       "129"
      ]
     },
     "execution_count": 33,
     "metadata": {},
     "output_type": "execute_result"
    }
   ],
   "source": [
    "# Count the total number of orders\n",
    "# [ Orders include both processed and returned orders]\n",
    "# hint: combine all orders into one list and then use len function\n",
    "len(processed_orders)+len(returned_orders)\n",
    "\n"
   ]
  },
  {
   "cell_type": "code",
   "execution_count": 34,
   "id": "eb5d57f7",
   "metadata": {},
   "outputs": [
    {
     "data": {
      "text/plain": [
       "129"
      ]
     },
     "execution_count": 34,
     "metadata": {},
     "output_type": "execute_result"
    }
   ],
   "source": [
    "all_order =  processed_orders+returned_orders\n",
    "len(all_order)"
   ]
  },
  {
   "cell_type": "code",
   "execution_count": 36,
   "id": "aaa680b0",
   "metadata": {},
   "outputs": [
    {
     "data": {
      "text/plain": [
       "1099"
      ]
     },
     "execution_count": 36,
     "metadata": {},
     "output_type": "execute_result"
    }
   ],
   "source": [
    "#In the total orders, identify the 50th order \n",
    "#[ Note: Assume the order ID’s are being generated in a consecutive manner]\n",
    "# hint: sort and print 50th order\n",
    "all_order.sort()\n",
    "all_order[49]\n"
   ]
  },
  {
   "cell_type": "code",
   "execution_count": 37,
   "id": "e3a21cc5",
   "metadata": {},
   "outputs": [
    {
     "data": {
      "text/plain": [
       "1178"
      ]
     },
     "execution_count": 37,
     "metadata": {},
     "output_type": "execute_result"
    }
   ],
   "source": [
    "# What is the last processed order ID - sort, last processed order\n",
    "processed_orders.sort()\n",
    "processed_orders[-1]"
   ]
  },
  {
   "cell_type": "code",
   "execution_count": 38,
   "id": "cbe39662",
   "metadata": {},
   "outputs": [
    {
     "data": {
      "text/plain": [
       "[1050, 1051, 1052, 1054]"
      ]
     },
     "execution_count": 38,
     "metadata": {},
     "output_type": "execute_result"
    }
   ],
   "source": [
    "# Identify the first 4 orders which are processed?\n",
    "processed_orders[:4]"
   ]
  },
  {
   "cell_type": "code",
   "execution_count": 39,
   "id": "04e2d586",
   "metadata": {},
   "outputs": [],
   "source": [
    "shopping_cart = {'apple': 10, 'banana': 12, 'orange': 25}"
   ]
  },
  {
   "cell_type": "code",
   "execution_count": 40,
   "id": "3f08b561",
   "metadata": {},
   "outputs": [
    {
     "name": "stdout",
     "output_type": "stream",
     "text": [
      "47\n"
     ]
    }
   ],
   "source": [
    "# total number of items in the shopping cart\n",
    "total_items = sum(shopping_cart.values())\n",
    "print(total_items)"
   ]
  },
  {
   "cell_type": "code",
   "execution_count": 41,
   "id": "f452bc1b",
   "metadata": {},
   "outputs": [
    {
     "name": "stdout",
     "output_type": "stream",
     "text": [
      "42.300000000000004\n"
     ]
    }
   ],
   "source": [
    "# discount 10% of the items\n",
    "discounted_items = total_items * 0.9\n",
    "print(discounted_items)"
   ]
  },
  {
   "cell_type": "code",
   "execution_count": 42,
   "id": "f1cf7997",
   "metadata": {},
   "outputs": [
    {
     "name": "stdout",
     "output_type": "stream",
     "text": [
      "Enter the string'Python Programming'\n",
      "Enter the Character'P'\n",
      "2\n"
     ]
    }
   ],
   "source": [
    "#Write a program to accept a string value from the user and accept a char value\n",
    "#from the user and find out the total occurrence of the char value in the string value.\n",
    "#Note that the count is not case-sensitive\n",
    "input_string = input('Enter the string')\n",
    "input_char =  input('Enter the Character')\n",
    "count_occurence = input_string.count(input_string) + input_char.count(input_char)\n",
    "print(count_occurence)\n"
   ]
  }
 ],
 "metadata": {
  "kernelspec": {
   "display_name": "Python 3 (ipykernel)",
   "language": "python",
   "name": "python3"
  },
  "language_info": {
   "codemirror_mode": {
    "name": "ipython",
    "version": 3
   },
   "file_extension": ".py",
   "mimetype": "text/x-python",
   "name": "python",
   "nbconvert_exporter": "python",
   "pygments_lexer": "ipython3",
   "version": "3.10.9"
  }
 },
 "nbformat": 4,
 "nbformat_minor": 5
}

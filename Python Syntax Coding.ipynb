{
 "cells": [
  {
   "cell_type": "code",
   "execution_count": 4,
   "id": "5dac1b3a",
   "metadata": {},
   "outputs": [
    {
     "name": "stdout",
     "output_type": "stream",
     "text": [
      "Hello World!\n"
     ]
    }
   ],
   "source": [
    "print('Hello World!')"
   ]
  },
  {
   "cell_type": "markdown",
   "id": "eb63415e",
   "metadata": {},
   "source": [
    "Rules for defining a variable\n",
    "1) A variable name must start with a letter or the underscore character\n",
    "2) A variable name cannot start with a number\n",
    "3) A variable name can only contain alpha-numeric characters and underscores (A-z, 0-9, and _ )\n",
    "4) Variable names are case-sensitive (age, Age and AGE are three different variables)"
   ]
  },
  {
   "cell_type": "code",
   "execution_count": 7,
   "id": "d78f25ea",
   "metadata": {},
   "outputs": [],
   "source": [
    "# write a python program to find the square of 5"
   ]
  },
  {
   "cell_type": "code",
   "execution_count": 8,
   "id": "0d61cc41",
   "metadata": {},
   "outputs": [
    {
     "name": "stdout",
     "output_type": "stream",
     "text": [
      "25\n"
     ]
    }
   ],
   "source": [
    "num = 5\n",
    "sq = num*num\n",
    "print(sq)"
   ]
  },
  {
   "cell_type": "code",
   "execution_count": 9,
   "id": "5675a4ef",
   "metadata": {},
   "outputs": [],
   "source": [
    "# write a python program to find the cube of 7"
   ]
  },
  {
   "cell_type": "code",
   "execution_count": 12,
   "id": "80457032",
   "metadata": {},
   "outputs": [
    {
     "data": {
      "text/plain": [
       "343"
      ]
     },
     "execution_count": 12,
     "metadata": {},
     "output_type": "execute_result"
    }
   ],
   "source": [
    "num2=7\n",
    "cube=num2**3\n",
    "cube"
   ]
  },
  {
   "cell_type": "code",
   "execution_count": 13,
   "id": "d43614bc",
   "metadata": {},
   "outputs": [],
   "source": [
    "# find the average of two numbers i.e 10 and 20"
   ]
  },
  {
   "cell_type": "code",
   "execution_count": 19,
   "id": "64b4ad78",
   "metadata": {},
   "outputs": [
    {
     "name": "stdout",
     "output_type": "stream",
     "text": [
      "15.0\n"
     ]
    }
   ],
   "source": [
    "num1=10\n",
    "num2=20\n",
    "avg = (num1+num2)/2\n",
    "print(avg)"
   ]
  },
  {
   "cell_type": "code",
   "execution_count": 20,
   "id": "625a0a9d",
   "metadata": {},
   "outputs": [],
   "source": [
    "# find the average of three numbers i.e 10,20 and 30"
   ]
  },
  {
   "cell_type": "code",
   "execution_count": 21,
   "id": "23beb685",
   "metadata": {},
   "outputs": [
    {
     "name": "stdout",
     "output_type": "stream",
     "text": [
      "20.0\n"
     ]
    }
   ],
   "source": [
    "num1=10\n",
    "num2=20\n",
    "num3=30\n",
    "avg = (num1+num2+num3)/3\n",
    "print(avg)"
   ]
  },
  {
   "cell_type": "markdown",
   "id": "2146868b",
   "metadata": {},
   "source": [
    "Various DataTypes\n",
    "-  Int - Positive/ Negative Whole Numbers\n",
    "-  Float - Decimals\n",
    "-  Complex Number - Number with a real and imaginary component\n",
    "-  Boolean - True/False\n",
    "-  String - A collection of characters\n",
    "-  List - An ordered series of comma seperated values. Enclosed by square brackets [].\n",
    "-  Tuple - Ordered sequence of comma seperated values. Enclosed by parenthesis ().\n",
    "-  Dictionary - Unordered collection of key values pairs. Enclosed by flower braces {}.\n",
    "-  Sets - Unordered collection of unique items. Also enclosed by flower braces {}."
   ]
  },
  {
   "cell_type": "code",
   "execution_count": 1,
   "id": "4dd3cbd1",
   "metadata": {},
   "outputs": [
    {
     "data": {
      "text/plain": [
       "int"
      ]
     },
     "execution_count": 1,
     "metadata": {},
     "output_type": "execute_result"
    }
   ],
   "source": [
    "type(1234) #int"
   ]
  },
  {
   "cell_type": "code",
   "execution_count": 2,
   "id": "c86e3113",
   "metadata": {},
   "outputs": [
    {
     "data": {
      "text/plain": [
       "float"
      ]
     },
     "execution_count": 2,
     "metadata": {},
     "output_type": "execute_result"
    }
   ],
   "source": [
    "type(55.50) #float"
   ]
  },
  {
   "cell_type": "code",
   "execution_count": 3,
   "id": "48767d7d",
   "metadata": {},
   "outputs": [
    {
     "data": {
      "text/plain": [
       "complex"
      ]
     },
     "execution_count": 3,
     "metadata": {},
     "output_type": "execute_result"
    }
   ],
   "source": [
    "type(6+4j) #Complex"
   ]
  },
  {
   "cell_type": "code",
   "execution_count": 7,
   "id": "28c23958",
   "metadata": {},
   "outputs": [
    {
     "data": {
      "text/plain": [
       "str"
      ]
     },
     "execution_count": 7,
     "metadata": {},
     "output_type": "execute_result"
    }
   ],
   "source": [
    "type('Welcome') #str"
   ]
  },
  {
   "cell_type": "code",
   "execution_count": 5,
   "id": "8aa938bd",
   "metadata": {},
   "outputs": [
    {
     "data": {
      "text/plain": [
       "list"
      ]
     },
     "execution_count": 5,
     "metadata": {},
     "output_type": "execute_result"
    }
   ],
   "source": [
    "type ([189,\"abc\",367,487])#list"
   ]
  },
  {
   "cell_type": "markdown",
   "id": "3cc4656e",
   "metadata": {},
   "source": [
    "# Python Operators"
   ]
  },
  {
   "cell_type": "markdown",
   "id": "54270f8e",
   "metadata": {},
   "source": [
    "-  Arithmetic Operators : Addition(+), Subtraction(-), Multiplication( * ), Division(/), Modulus(%), Exponentiation( ** ) , Floor division (//)\n",
    "-  Comparison Operators : Equals to (==), Greater than (>), Less than (<), Not equal to (!=), Greater than or equal to (x>=y), Lesser than equal to (x<=y)\n",
    "-  Logical Operators : AND, OR, NOT"
   ]
  },
  {
   "cell_type": "code",
   "execution_count": 8,
   "id": "cd2cb3b3",
   "metadata": {},
   "outputs": [],
   "source": [
    "#askakhkshakljl"
   ]
  },
  {
   "cell_type": "code",
   "execution_count": 10,
   "id": "b2576662",
   "metadata": {},
   "outputs": [
    {
     "name": "stdout",
     "output_type": "stream",
     "text": [
      "1.5\n"
     ]
    }
   ],
   "source": [
    "x = 15\n",
    "y = 10\n",
    "\n",
    "#Arithmetic Operators \n",
    "print(x/y) #(x-y) / (x * y) / (x%y) / (x ** y) / (x // y)"
   ]
  },
  {
   "cell_type": "code",
   "execution_count": 13,
   "id": "f59df6d5",
   "metadata": {},
   "outputs": [
    {
     "name": "stdout",
     "output_type": "stream",
     "text": [
      "False\n"
     ]
    }
   ],
   "source": [
    "#Comparison Operators\n",
    "print(x<y) #x!=y / x>y / x<y  "
   ]
  },
  {
   "cell_type": "code",
   "execution_count": 16,
   "id": "d03b0e74",
   "metadata": {},
   "outputs": [
    {
     "name": "stdout",
     "output_type": "stream",
     "text": [
      "True\n"
     ]
    }
   ],
   "source": [
    "z= 20\n",
    "#Logical Operators \n",
    "print(x>21 or x<25) #(x>21 or x<25) / not(x>21 or x<25)"
   ]
  },
  {
   "cell_type": "code",
   "execution_count": 30,
   "id": "3e19408b",
   "metadata": {},
   "outputs": [],
   "source": [
    "# find the fahrenheit equivalent tremprature for 10 degree celcius"
   ]
  },
  {
   "cell_type": "code",
   "execution_count": 31,
   "id": "d10a33e8",
   "metadata": {},
   "outputs": [
    {
     "name": "stdout",
     "output_type": "stream",
     "text": [
      "50.0\n"
     ]
    }
   ],
   "source": [
    "cel=10\n",
    "fah=(9/5)*cel+32\n",
    "print(fah)\n"
   ]
  },
  {
   "cell_type": "code",
   "execution_count": 32,
   "id": "17a3adb9",
   "metadata": {},
   "outputs": [],
   "source": [
    "# find the simple interest for principal = 1000, rate of interest = 12%(annual)\n",
    "# and time period 5 years"
   ]
  },
  {
   "cell_type": "code",
   "execution_count": 34,
   "id": "4dde8c3e",
   "metadata": {},
   "outputs": [
    {
     "data": {
      "text/plain": [
       "600.0"
      ]
     },
     "execution_count": 34,
     "metadata": {},
     "output_type": "execute_result"
    }
   ],
   "source": [
    "p =  1000\n",
    "r = 12\n",
    "t =5\n",
    "si = (p*r*t)/100\n",
    "si"
   ]
  },
  {
   "cell_type": "code",
   "execution_count": 35,
   "id": "8948d3bb",
   "metadata": {},
   "outputs": [],
   "source": [
    "# find the area of square with side 4"
   ]
  },
  {
   "cell_type": "code",
   "execution_count": 36,
   "id": "d6f57aef",
   "metadata": {},
   "outputs": [
    {
     "data": {
      "text/plain": [
       "16"
      ]
     },
     "execution_count": 36,
     "metadata": {},
     "output_type": "execute_result"
    }
   ],
   "source": [
    "side=4\n",
    "area=side*side\n",
    "area"
   ]
  },
  {
   "cell_type": "code",
   "execution_count": 37,
   "id": "c599247f",
   "metadata": {},
   "outputs": [],
   "source": [
    "# find the dollar equivalent for INR 3458.2 where $1 = INR 82"
   ]
  },
  {
   "cell_type": "code",
   "execution_count": 41,
   "id": "2efae8d9",
   "metadata": {},
   "outputs": [
    {
     "data": {
      "text/plain": [
       "42.17"
      ]
     },
     "execution_count": 41,
     "metadata": {},
     "output_type": "execute_result"
    }
   ],
   "source": [
    "R =3458.2\n",
    "D= round(R/82,2)\n",
    "D"
   ]
  },
  {
   "cell_type": "code",
   "execution_count": 42,
   "id": "05933abf",
   "metadata": {},
   "outputs": [],
   "source": [
    "# write a program to print \"Eligible\" if age >=18 else \"Not Eligible\""
   ]
  },
  {
   "cell_type": "code",
   "execution_count": 43,
   "id": "6621ee54",
   "metadata": {},
   "outputs": [
    {
     "name": "stdout",
     "output_type": "stream",
     "text": [
      "Eligible\n"
     ]
    }
   ],
   "source": [
    "age =54\n",
    "if age >=18:\n",
    "    print(\"Eligible\")\n",
    "else:\n",
    "    print(\"Not Eligible\")"
   ]
  },
  {
   "cell_type": "code",
   "execution_count": 44,
   "id": "642da9b4",
   "metadata": {},
   "outputs": [],
   "source": [
    "# write a program to print \"Pass\" if marks >=40 otherwise print \"Fail\""
   ]
  },
  {
   "cell_type": "code",
   "execution_count": 45,
   "id": "ac72b0e2",
   "metadata": {},
   "outputs": [
    {
     "name": "stdout",
     "output_type": "stream",
     "text": [
      "Pass\n"
     ]
    }
   ],
   "source": [
    "marks = 54\n",
    "if marks >=40:\n",
    "    print(\"Pass\")\n",
    "else:\n",
    "    print(\"Fail\")"
   ]
  },
  {
   "cell_type": "code",
   "execution_count": 46,
   "id": "e0ac44c0",
   "metadata": {},
   "outputs": [],
   "source": [
    "# write a program to print largest of 2 numbers from given numbers as 10 and 80"
   ]
  },
  {
   "cell_type": "code",
   "execution_count": 48,
   "id": "2aa9e128",
   "metadata": {},
   "outputs": [
    {
     "name": "stdout",
     "output_type": "stream",
     "text": [
      "100\n"
     ]
    }
   ],
   "source": [
    "num1=100\n",
    "num2=80\n",
    "if num1>num2:\n",
    "    print(num1)\n",
    "else:\n",
    "    print(num2)"
   ]
  },
  {
   "cell_type": "code",
   "execution_count": 49,
   "id": "8ea43ed1",
   "metadata": {},
   "outputs": [],
   "source": [
    "# write a program to print loan eligibility (Not Eligible if applied amount>2*income) "
   ]
  },
  {
   "cell_type": "code",
   "execution_count": 50,
   "id": "a7ba1dc6",
   "metadata": {},
   "outputs": [
    {
     "name": "stdout",
     "output_type": "stream",
     "text": [
      "Not Eligible\n"
     ]
    }
   ],
   "source": [
    "income =10000\n",
    "applied_amount=25000\n",
    "if applied_amount>2*income:\n",
    "    print(\"Not Eligible\")\n",
    "else:\n",
    "    print(\"Eligible\")\n"
   ]
  },
  {
   "cell_type": "code",
   "execution_count": 51,
   "id": "8e1e0de4",
   "metadata": {},
   "outputs": [],
   "source": [
    "# write a program to check the divisibility of any number by 3"
   ]
  },
  {
   "cell_type": "code",
   "execution_count": 52,
   "id": "e7ddb940",
   "metadata": {},
   "outputs": [
    {
     "name": "stdout",
     "output_type": "stream",
     "text": [
      "Not Divisible\n"
     ]
    }
   ],
   "source": [
    "num=23\n",
    "if num%3==0:\n",
    "    print(\"Divisible\")\n",
    "else:\n",
    "    print(\"Not Divisible\")\n",
    "   "
   ]
  }
 ],
 "metadata": {
  "kernelspec": {
   "display_name": "Python 3 (ipykernel)",
   "language": "python",
   "name": "python3"
  },
  "language_info": {
   "codemirror_mode": {
    "name": "ipython",
    "version": 3
   },
   "file_extension": ".py",
   "mimetype": "text/x-python",
   "name": "python",
   "nbconvert_exporter": "python",
   "pygments_lexer": "ipython3",
   "version": "3.10.9"
  }
 },
 "nbformat": 4,
 "nbformat_minor": 5
}

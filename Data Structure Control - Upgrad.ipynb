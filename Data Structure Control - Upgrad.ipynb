{
 "cells": [
  {
   "cell_type": "code",
   "execution_count": 74,
   "id": "d90e37b8",
   "metadata": {},
   "outputs": [
    {
     "data": {
      "text/plain": [
       "'C:\\\\Users\\\\91981\\\\Desktop'"
      ]
     },
     "execution_count": 74,
     "metadata": {},
     "output_type": "execute_result"
    }
   ],
   "source": [
    "# if-elif-else\n",
    "import os\n",
    "os.getcwd()"
   ]
  },
  {
   "cell_type": "code",
   "execution_count": 5,
   "id": "62905046",
   "metadata": {},
   "outputs": [
    {
     "name": "stdout",
     "output_type": "stream",
     "text": [
      "a and b are equal\n"
     ]
    }
   ],
   "source": [
    "a=200\n",
    "b=200\n",
    "if b>a:\n",
    "    print(\"b is a greater than a\")\n",
    "elif b==a:\n",
    "    print(\"a and b are equal\")\n",
    "else: \n",
    "    print(\"a is greater than b\")"
   ]
  },
  {
   "cell_type": "code",
   "execution_count": 9,
   "id": "379f3781",
   "metadata": {},
   "outputs": [
    {
     "name": "stdout",
     "output_type": "stream",
     "text": [
      "enter the score74\n",
      "Grade A\n"
     ]
    }
   ],
   "source": [
    "# write a program that takes student scores as an input\n",
    "# and print their corresponding grades\n",
    "# Criterias (A: 90-100, B: 80-89, C: 70-79, D:60-69, E: less than equals 59)\n",
    "\n",
    "score = int(input(\"enter the score\"))\n",
    "if score >=90 and score <=100:\n",
    "    print(\"Grade A\")\n",
    "elif score >=80 and score <=89:\n",
    "        print(\"Grade B\")\n",
    "elif score >=70 and score <=79:\n",
    "        print(\"Grade C\")\n",
    "elif score >=60 and score <=69:\n",
    "        print(\"Grade D\")\n",
    "else:\n",
    "    print(\"Grade E\")"
   ]
  },
  {
   "cell_type": "code",
   "execution_count": 11,
   "id": "d87913a3",
   "metadata": {},
   "outputs": [
    {
     "name": "stdout",
     "output_type": "stream",
     "text": [
      "enter the score60\n",
      "Grade D\n"
     ]
    }
   ],
   "source": [
    "score = int(input(\"enter the score\"))\n",
    "if score in range(90,101):\n",
    "    print(\"Grade A\")\n",
    "elif score in range(80,90):\n",
    "        print(\"Grade B\")\n",
    "elif score in range(70,80):\n",
    "        print(\"Grade C\")\n",
    "elif score in range(60,70):\n",
    "        print(\"Grade D\")\n",
    "else:\n",
    "    print(\"Grade E\")"
   ]
  },
  {
   "cell_type": "code",
   "execution_count": 12,
   "id": "3f5f8e10",
   "metadata": {},
   "outputs": [
    {
     "name": "stdout",
     "output_type": "stream",
     "text": [
      "enter the score45\n",
      "Can do better\n"
     ]
    }
   ],
   "source": [
    "#marks as an input: mark > 80 : Print Excellent, marks 60 to 80 : Print Good\n",
    "#marks 40 to 60 \"Can do better\" marks below 40 \"needs improvement!\"\n",
    "score = int(input(\"enter the score\"))\n",
    "if score >=80: \n",
    "    print(\"Excellent\") \n",
    "elif score >=60 and score <=80: \n",
    "    print(\"Good\") \n",
    "elif score >=40 and score <=60: \n",
    "    print(\"Can do better\") \n",
    "else: \n",
    "    print (\"Need improvement\")"
   ]
  },
  {
   "cell_type": "code",
   "execution_count": 14,
   "id": "82cbe3ae",
   "metadata": {},
   "outputs": [
    {
     "name": "stdout",
     "output_type": "stream",
     "text": [
      "enter the marks45\n",
      "Can do better\n"
     ]
    }
   ],
   "source": [
    "marks = int(input (\"enter the marks\"))\n",
    "if marks in range (80,100): \n",
    "    print (\"Excellent\") \n",
    "elif marks in range (60,80): \n",
    "    print (\"Good\") \n",
    "elif marks in range (40,60):\n",
    "    print (\"Can do better\") \n",
    "else:(\"need Improvement\")"
   ]
  },
  {
   "cell_type": "code",
   "execution_count": 21,
   "id": "4576c0a7",
   "metadata": {},
   "outputs": [
    {
     "name": "stdout",
     "output_type": "stream",
     "text": [
      "1\n",
      "4\n",
      "7\n",
      "10\n"
     ]
    }
   ],
   "source": [
    "# while - for\n",
    "# while\n",
    "a= 1\n",
    "while a<=10:\n",
    "    print(a)\n",
    "    a+=3 # iteration a+=2# "
   ]
  },
  {
   "cell_type": "code",
   "execution_count": 24,
   "id": "61afb5ef",
   "metadata": {},
   "outputs": [
    {
     "name": "stdout",
     "output_type": "stream",
     "text": [
      "5\n",
      "6\n",
      "7\n",
      "8\n",
      "10\n",
      "11\n",
      "12\n",
      "13\n",
      "14\n",
      "15\n",
      "16\n"
     ]
    }
   ],
   "source": [
    "# while - continue\n",
    "a = 4\n",
    "while a<=15:\n",
    "    a+=1\n",
    "    if a==9:\n",
    "        continue\n",
    "    print(a)\n",
    "  "
   ]
  },
  {
   "cell_type": "code",
   "execution_count": 26,
   "id": "7c649187",
   "metadata": {},
   "outputs": [
    {
     "name": "stdout",
     "output_type": "stream",
     "text": [
      "5\n",
      "6\n",
      "7\n",
      "8\n",
      "9\n",
      "10\n"
     ]
    }
   ],
   "source": [
    "# while - break\n",
    "a = 4\n",
    "while a<15:\n",
    "    if a == 10:\n",
    "       break\n",
    "    a+=1\n",
    "    print(a)"
   ]
  },
  {
   "cell_type": "code",
   "execution_count": 27,
   "id": "c000d489",
   "metadata": {},
   "outputs": [
    {
     "name": "stdout",
     "output_type": "stream",
     "text": [
      "1\n",
      "2\n",
      "3\n",
      "4\n",
      "5\n",
      "6\n",
      "7\n",
      "8\n",
      "9\n"
     ]
    }
   ],
   "source": [
    "# for loop ranges,list, dictionaries\n",
    "for a in range(1,10):\n",
    "    print(a)"
   ]
  },
  {
   "cell_type": "code",
   "execution_count": 30,
   "id": "3b161a53",
   "metadata": {},
   "outputs": [
    {
     "name": "stdout",
     "output_type": "stream",
     "text": [
      "10\n",
      "20\n",
      "30\n",
      "40\n",
      "50\n",
      "60\n",
      "70\n",
      "80\n",
      "90\n",
      "100\n"
     ]
    }
   ],
   "source": [
    "a = 10\n",
    "for b in range(1,11):\n",
    "  product = a*b\n",
    "  print(product)"
   ]
  },
  {
   "cell_type": "code",
   "execution_count": 33,
   "id": "b9e83208",
   "metadata": {},
   "outputs": [
    {
     "name": "stdout",
     "output_type": "stream",
     "text": [
      "10\n",
      "20\n",
      "30\n",
      "40\n",
      "50\n",
      "60\n",
      "70\n"
     ]
    }
   ],
   "source": [
    "# for - continue\n",
    "a = 10\n",
    "for b in range(1,11):\n",
    "  product = a*b\n",
    "  print(product)\n",
    "  if product == 70:\n",
    "        break\n",
    " "
   ]
  },
  {
   "cell_type": "code",
   "execution_count": 39,
   "id": "4328cfe4",
   "metadata": {},
   "outputs": [
    {
     "name": "stdout",
     "output_type": "stream",
     "text": [
      "enter the number:100\n",
      "100.0 50.0 33.333333333333336 25.0 20.0 16.666666666666668 14.285714285714286 12.5 11.11111111111111 10.0 9.090909090909092 8.333333333333334 7.6923076923076925 7.142857142857143 6.666666666666667 6.25 5.882352941176471 5.555555555555555 5.2631578947368425 5.0 "
     ]
    }
   ],
   "source": [
    "# input from user on a number then iterate through range (1,21) using for loop \n",
    "# and divide the number entered with the range\n",
    "a= int(input(\"enter the number:\"))\n",
    "for b in range(1,21):\n",
    "    divide = a/b\n",
    "    print(divide,end = \" \")\n",
    "    "
   ]
  },
  {
   "cell_type": "code",
   "execution_count": 40,
   "id": "35272592",
   "metadata": {},
   "outputs": [
    {
     "name": "stdout",
     "output_type": "stream",
     "text": [
      "Hyderabad\n",
      "Bengaluru\n",
      "Mumbai\n",
      "Delhi\n"
     ]
    }
   ],
   "source": [
    "# iterate through list \n",
    "cities = [\"Hyderabad\",\"Bengaluru\",\"Mumbai\",\"Delhi\"]\n",
    "for x in cities:\n",
    "    print(x)"
   ]
  },
  {
   "cell_type": "code",
   "execution_count": 41,
   "id": "c5bc39d1",
   "metadata": {},
   "outputs": [
    {
     "name": "stdout",
     "output_type": "stream",
     "text": [
      "Hyderabad 25000\n",
      "Bengaluru 36000\n",
      "Mumbai 34000\n",
      "Delhi 56000\n"
     ]
    }
   ],
   "source": [
    "cities = [\"Hyderabad\",\"Bengaluru\",\"Mumbai\",\"Delhi\"]\n",
    "population = [25000, 36000,34000,56000]\n",
    "for a,b in zip(cities,population):\n",
    "    print(a,b)"
   ]
  },
  {
   "cell_type": "code",
   "execution_count": 42,
   "id": "7abbf127",
   "metadata": {},
   "outputs": [
    {
     "name": "stdout",
     "output_type": "stream",
     "text": [
      "10\n",
      "45\n",
      "100\n",
      "90\n",
      "85\n"
     ]
    }
   ],
   "source": [
    "# given the list of numbers you only need to print numbers that are diviblse by 5\n",
    "num = [10,23,45,67,100,90,85]\n",
    "for a in num:\n",
    "    if a%5==0:\n",
    "        print(a)\n"
   ]
  },
  {
   "cell_type": "code",
   "execution_count": 45,
   "id": "d6b4308b",
   "metadata": {},
   "outputs": [
    {
     "name": "stdout",
     "output_type": "stream",
     "text": [
      "1\n",
      "4\n",
      "9\n",
      "16\n",
      "25\n"
     ]
    }
   ],
   "source": [
    "# given the list of numbers you only need to print square of the numbers \n",
    "num = [1,5,3,6]\n",
    "for a in num:\n",
    "    print(a**2)"
   ]
  },
  {
   "cell_type": "code",
   "execution_count": 50,
   "id": "2997ee39",
   "metadata": {},
   "outputs": [],
   "source": [
    "# user defined functions\n",
    "def greet(name):\n",
    "    print(name)"
   ]
  },
  {
   "cell_type": "code",
   "execution_count": 52,
   "id": "ed712ca9",
   "metadata": {},
   "outputs": [
    {
     "name": "stdout",
     "output_type": "stream",
     "text": [
      "Sachin\n"
     ]
    }
   ],
   "source": [
    "greet(\"Sachin\")"
   ]
  },
  {
   "cell_type": "code",
   "execution_count": 53,
   "id": "c110cc03",
   "metadata": {},
   "outputs": [
    {
     "data": {
      "text/plain": [
       "300"
      ]
     },
     "execution_count": 53,
     "metadata": {},
     "output_type": "execute_result"
    }
   ],
   "source": [
    "max(100,300)"
   ]
  },
  {
   "cell_type": "code",
   "execution_count": 58,
   "id": "22546c4e",
   "metadata": {},
   "outputs": [],
   "source": [
    "def highest_number(x,y):\n",
    "    if x>y:\n",
    "        return x\n",
    "    return y\n",
    "    "
   ]
  },
  {
   "cell_type": "code",
   "execution_count": 61,
   "id": "783b7a96",
   "metadata": {},
   "outputs": [],
   "source": [
    "def square(x):\n",
    "    return x**2"
   ]
  },
  {
   "cell_type": "code",
   "execution_count": 62,
   "id": "4720e272",
   "metadata": {},
   "outputs": [
    {
     "data": {
      "text/plain": [
       "100"
      ]
     },
     "execution_count": 62,
     "metadata": {},
     "output_type": "execute_result"
    }
   ],
   "source": [
    "square(10)"
   ]
  },
  {
   "cell_type": "code",
   "execution_count": 63,
   "id": "09151b0b",
   "metadata": {},
   "outputs": [],
   "source": [
    "def cube(x):\n",
    "    return x**3"
   ]
  },
  {
   "cell_type": "code",
   "execution_count": 64,
   "id": "d6cd10ae",
   "metadata": {},
   "outputs": [
    {
     "data": {
      "text/plain": [
       "1000"
      ]
     },
     "execution_count": 64,
     "metadata": {},
     "output_type": "execute_result"
    }
   ],
   "source": [
    "cube(10)"
   ]
  },
  {
   "cell_type": "code",
   "execution_count": 67,
   "id": "253eb25d",
   "metadata": {},
   "outputs": [],
   "source": [
    "# find highest of 3 numbers\n",
    "def high(a,b,c):\n",
    "    if a>b and a>c:\n",
    "        return a\n",
    "    elif b>a and b>c:\n",
    "        return b\n",
    "    else:\n",
    "        return c"
   ]
  },
  {
   "cell_type": "code",
   "execution_count": 69,
   "id": "e31a6e5a",
   "metadata": {},
   "outputs": [
    {
     "data": {
      "text/plain": [
       "300"
      ]
     },
     "execution_count": 69,
     "metadata": {},
     "output_type": "execute_result"
    }
   ],
   "source": [
    "high(100,300,200)"
   ]
  },
  {
   "cell_type": "code",
   "execution_count": null,
   "id": "7664f12d",
   "metadata": {},
   "outputs": [],
   "source": [
    "# find highest of 4 numbers\n",
    "def high(a,b,c,d):\n",
    "    if a>b and a>c and a>d:\n",
    "        return a\n",
    "    elif b>a and b>c and b>d:\n",
    "        return b\n",
    "    elif c>a and c>b and c>d:\n",
    "        return c\n",
    "    else:\n",
    "        return d"
   ]
  }
 ],
 "metadata": {
  "kernelspec": {
   "display_name": "Python 3 (ipykernel)",
   "language": "python",
   "name": "python3"
  },
  "language_info": {
   "codemirror_mode": {
    "name": "ipython",
    "version": 3
   },
   "file_extension": ".py",
   "mimetype": "text/x-python",
   "name": "python",
   "nbconvert_exporter": "python",
   "pygments_lexer": "ipython3",
   "version": "3.10.9"
  }
 },
 "nbformat": 4,
 "nbformat_minor": 5
}
